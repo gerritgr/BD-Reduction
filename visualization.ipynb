{
 "cells": [
  {
   "cell_type": "code",
   "execution_count": 4,
   "id": "2374046b-57b9-4b6d-acf2-ab42256db60e",
   "metadata": {},
   "outputs": [],
   "source": [
    "import glob\n",
    "import pandas as pd\n",
    "import matplotlib.pyplot as plt\n",
    "import seaborn as sns\n",
    "sns.set_style(\"white\")"
   ]
  },
  {
   "cell_type": "code",
   "execution_count": 66,
   "id": "e0ba8f0a-6d40-4cae-92c7-946d7364c71e",
   "metadata": {},
   "outputs": [],
   "source": [
    "palette_blue = [(48/255.0, 112/255.0, 173/255.0), (48/255.0, 112/255.0, 173/255.0)]#), (195/255.0, 64/255.0, 129/255.0)] \n",
    "palette_red = [(195/255.0, 64/255.0, 129/255.0)]#, (195/255.0, 64/255.0, 129/255.0)] \n",
    "\n",
    "def plot_graph(df, outpath):\n",
    "    plt.clf()\n",
    "    df_sim = df[df.bound == 'simulation']\n",
    "    df_bd = df[df.bound != 'simulation']\n",
    "    if len(df_sim) == 0:\n",
    "        return\n",
    "    print(df_sim)\n",
    "    #return\n",
    "    \n",
    "    \n",
    "    sns.lineplot(x=\"rates\", y=\"exp_inf_frac\", lw=1, palette=palette_red,\n",
    "                 data=df_sim, alpha=0.8, err_style='band', ci=95, hue='bound', ls='--')\n",
    "    \n",
    "    sns.lineplot(x=\"rates\", y=\"exp_inf_frac\", lw=1, palette=palette_blue,\n",
    "             data=df_bd, alpha=1.0, err_style='bars', ci=95, hue='bound')\n",
    "    \n",
    "    plt.xlabel('Time', fontsize=23)\n",
    "    plt.ylabel('Prevalence', fontsize=23)\n",
    "    (plt.gca()).set_xscale('log')\n",
    "    #plt.ylim(0.0, 1.0)\n",
    "    #plt.xlim(0.0, 10.0)\n",
    "    #plt.xticks([int(v) for v in range(11)], [str(v) for v in range(11)])\n",
    "    plt.xticks(fontsize=17)\n",
    "    plt.yticks(fontsize=17)\n",
    "    #(plt.gca()).legend(fontsize = 20, \\\n",
    "     #              bbox_to_anchor= (1.0, 1), \\\n",
    "     #              title=\"Node-State\", \\\n",
    "     #              title_fontsize = 15, \\\n",
    "     #              shadow = False, \\\n",
    "     #              frameon = False, \\\n",
    "     #              facecolor = 'white')\n",
    "    #plt.legend(frameon=False)\n",
    "    \n",
    "\n",
    "    ax = plt.gca()\n",
    "    # Hide the right and top spines\n",
    "    ax.spines['right'].set_visible(False)\n",
    "    ax.spines['top'].set_visible(False)\n",
    "\n",
    "    # Only show ticks on the left and bottom spines\n",
    "    ax.yaxis.set_ticks_position('left')\n",
    "    ax.xaxis.set_ticks_position('bottom')\n",
    "    plt.title(outpath.replace('.pdf', ''))\n",
    "\n",
    "    plt.plot()\n",
    "    plt.savefig(outpath, bbox_inches='tight')"
   ]
  },
  {
   "cell_type": "code",
   "execution_count": 67,
   "id": "a519d9f5-b7f2-4ef0-a897-767ff3bce21a",
   "metadata": {},
   "outputs": [
    {
     "name": "stdout",
     "output_type": "stream",
     "text": [
      "output/WSgraph_1000000.csv\n",
      "output/BAgraph_1000000.csv\n",
      "output/BAgraph_10000.csv\n",
      "output/ERgraph_10000.csv\n",
      "output/ERgraph_1000000.csv\n",
      "output/WSgraph_10000.csv\n",
      "output/ERgraph_100.csv\n",
      "        rates  exp_inf_frac       bound\n",
      "2000    0.001          0.01  simulation\n",
      "2001    0.001          0.01  simulation\n",
      "2002    0.001          0.01  simulation\n",
      "2003    0.001          0.01  simulation\n",
      "2004    0.001          0.01  simulation\n",
      "...       ...           ...         ...\n",
      "11995  10.000          0.98  simulation\n",
      "11996  10.000          0.98  simulation\n",
      "11997  10.000          1.00  simulation\n",
      "11998  10.000          0.99  simulation\n",
      "11999  10.000          0.99  simulation\n",
      "\n",
      "[10000 rows x 3 columns]\n",
      "output/WSgraph_100.csv\n",
      "        rates  exp_inf_frac       bound\n",
      "2000    0.001          0.01  simulation\n",
      "2001    0.001          0.01  simulation\n",
      "2002    0.001          0.01  simulation\n",
      "2003    0.001          0.01  simulation\n",
      "2004    0.001          0.01  simulation\n",
      "...       ...           ...         ...\n",
      "11995  10.000          0.96  simulation\n",
      "11996  10.000          0.96  simulation\n",
      "11997  10.000          0.98  simulation\n",
      "11998  10.000          0.92  simulation\n",
      "11999  10.000          0.97  simulation\n",
      "\n",
      "[10000 rows x 3 columns]\n",
      "output/BAgraph_100.csv\n",
      "        rates  exp_inf_frac       bound\n",
      "2000    0.001          0.01  simulation\n",
      "2001    0.001          0.01  simulation\n",
      "2002    0.001          0.01  simulation\n",
      "2003    0.001          0.01  simulation\n",
      "2004    0.001          0.01  simulation\n",
      "...       ...           ...         ...\n",
      "11995  10.000          0.97  simulation\n",
      "11996  10.000          0.96  simulation\n",
      "11997  10.000          0.99  simulation\n",
      "11998  10.000          1.00  simulation\n",
      "11999  10.000          0.99  simulation\n",
      "\n",
      "[10000 rows x 3 columns]\n"
     ]
    },
    {
     "data": {
      "image/png": "[encoded data removed]",
      "text/plain": [
       "<Figure size 432x288 with 1 Axes>"
      ]
     },
     "metadata": {},
     "output_type": "display_data"
    }
   ],
   "source": [
    "for file in glob.glob('output/*.csv'):\n",
    "    print(file)\n",
    "    df = pd.read_csv(file)\n",
    "    plot_graph(df, file.split('/')[-1].replace('.csv', '.pdf'))"
   ]
  },
  {
   "cell_type": "code",
   "execution_count": null,
   "id": "eea65297-fe59-4c4b-90e5-37c9dbd88a1b",
   "metadata": {},
   "outputs": [],
   "source": []
  },
  {
   "cell_type": "code",
   "execution_count": null,
   "id": "259e3bf2-201f-4623-bdf7-4781732ddef6",
   "metadata": {},
   "outputs": [],
   "source": []
  }
 ],
 "metadata": {
  "kernelspec": {
   "display_name": "Python 3 (ipykernel)",
   "language": "python",
   "name": "python3"
  },
  "language_info": {
   "codemirror_mode": {
    "name": "ipython",
    "version": 3
   },
   "file_extension": ".py",
   "mimetype": "text/x-python",
   "name": "python",
   "nbconvert_exporter": "python",
   "pygments_lexer": "ipython3",
   "version": "3.9.5"
  }
 },
 "nbformat": 4,
 "nbformat_minor": 5
}
