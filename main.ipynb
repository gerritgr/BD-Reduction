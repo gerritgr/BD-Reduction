{
 "cells": [
  {
   "cell_type": "markdown",
   "id": "12c182a4",
   "metadata": {},
   "source": [
    "# Installs (do this only once)"
   ]
  },
  {
   "cell_type": "code",
   "execution_count": null,
   "id": "f13db040",
   "metadata": {},
   "outputs": [],
   "source": [
    "import Pkg; \n",
    "Pkg.add(\"DataStructures\")\n",
    "Pkg.add(\"Graphs\")\n",
    "Pkg.add(\"Plots\")\n",
    "Pkg.add(\"DataFrames\")\n",
    "Pkg.add(\"CSV\")\n",
    "Pkg.add(\"GraphPlot\")\n"
   ]
  },
  {
   "cell_type": "markdown",
   "id": "1efcf3e0",
   "metadata": {},
   "source": [
    "# Imports"
   ]
  },
  {
   "cell_type": "code",
   "execution_count": null,
   "id": "2c5eb4c6",
   "metadata": {},
   "outputs": [],
   "source": [
    "using Graphs, GraphPlot\n",
    "using DataStructures\n",
    "using Statistics\n",
    "using Plots\n",
    "using Random\n",
    "using CSV\n",
    "using DataFrames\n",
    "using Graphs.SimpleGraphs"
   ]
  },
  {
   "cell_type": "markdown",
   "id": "52a1f8e1",
   "metadata": {},
   "source": [
    "# Compute Counts"
   ]
  },
  {
   "cell_type": "code",
   "execution_count": null,
   "id": "f96b6981",
   "metadata": {},
   "outputs": [],
   "source": [
    "function compute_edgecounts(g::SimpleGraph{Int64},  minimize::Bool)::Vector{Int64}\n",
    "    pq = PriorityQueue{Int64, Int64}()\n",
    "    si_edges_set = Set{Tuple{Int64, Int64}}([])\n",
    "    si_counts_record = Vector{Int64}()\n",
    "    already_infected = Set{Int64}([])\n",
    "    direction = minimize ?  1 : -1\n",
    "    \n",
    "    # setup\n",
    "    # the priorty encodes how many S-I eges will added (in total) if node turns to S\n",
    "    # Some S-I edges will also be removed (turn to S-S) edges\n",
    "    for (v_i, degree) in enumerate(degree(g))  \n",
    "        enqueue!(pq, v_i, direction * degree)\n",
    "    end\n",
    "    append!(si_counts_record, length(si_edges_set))  # zero S-I edges in the beginning\n",
    "    \n",
    "    # greedy \n",
    "    while length(pq) > 0\n",
    "        v_i = dequeue!(pq)\n",
    "        push!(already_infected, v_i)\n",
    "\n",
    "        for v_j in neighbors(g, v_i)\n",
    "            edge = (min(v_j, v_i), max(v_j, v_i))\n",
    "            if v_j in already_infected\n",
    "                delete!(si_edges_set, edge) # this turns form S-I to an S-S edge\n",
    "            else\n",
    "                push!(si_edges_set, edge)  # this turns form I-I to an S-I edge\n",
    "                delete!(pq, v_j)      \n",
    "                neig_j =  neighbors(g, v_j)\n",
    "                neighbors_list_susc = filter(v_x -> !(v_x in already_infected), neig_j)\n",
    "                num_sus_neighbors = length(neighbors_list_susc)\n",
    "                num_inf_neighbors = length(neig_j) - num_sus_neighbors\n",
    "                d_j = num_sus_neighbors - num_inf_neighbors\n",
    "                pq[v_j] = direction *  d_j\n",
    "            end\n",
    "        end\n",
    "\n",
    "        append!(si_counts_record, length(si_edges_set))\n",
    "    end\n",
    "    \n",
    "    # use symmetry \n",
    "    sym =  minimize ? min : max\n",
    "    si_counts_record =  map((i,j)->sym(i,j), si_counts_record, reverse(si_counts_record))\n",
    "    return si_counts_record\n",
    "end"
   ]
  },
  {
   "cell_type": "code",
   "execution_count": null,
   "id": "4198a359",
   "metadata": {},
   "outputs": [],
   "source": [
    "function compute_edgecounts_minmax(g)\n",
    "    counts_min = compute_edgecounts(g, true)\n",
    "    counts_max = compute_edgecounts(g, false)\n",
    "    return(counts_min, counts_max)\n",
    "end"
   ]
  },
  {
   "cell_type": "markdown",
   "id": "0d210d65",
   "metadata": {},
   "source": [
    "### Test"
   ]
  },
  {
   "cell_type": "code",
   "execution_count": null,
   "id": "5f48f8f4",
   "metadata": {},
   "outputs": [],
   "source": [
    "n = 100\n",
    "g = erdos_renyi(n, 1/10, seed=123)\n",
    "c_min, c_max = compute_edgecounts_minmax(g)\n",
    "plot(c_min)\n",
    "plot!(c_max)"
   ]
  },
  {
   "cell_type": "markdown",
   "id": "b55263ad",
   "metadata": {},
   "source": [
    "# CTMC"
   ]
  },
  {
   "cell_type": "code",
   "execution_count": null,
   "id": "3ef2cd41",
   "metadata": {},
   "outputs": [],
   "source": [
    "function solve_eq(edge_count_vec::Vector{Int64}, rate::Float64)::Vector{Float64}\n",
    "    pi_hat::Vector{Float64}  = [log(1.0)]\n",
    "    for (i, edge_count_i) in enumerate(edge_count_vec) \n",
    "        if (i == 1 && edge_count_i == 0)  || (i == length(edge_count_vec) && edge_count_i == 0)\n",
    "            continue\n",
    "        end\n",
    "        inflow_from_left = rate*edge_count_vec[i]\n",
    "        outflow_to_left = float(i+1)\n",
    "        pi_hat_i = pi_hat[i-1] + log(inflow_from_left) - log(outflow_to_left)\n",
    "        append!(pi_hat, pi_hat_i)\n",
    "    end\n",
    "    \n",
    "    pi_hat = pi_hat .- maximum(pi_hat)\n",
    "    pi_hat = map((x) -> exp(x), pi_hat)\n",
    "    pi = pi_hat ./ sum(pi_hat)\n",
    "    return pi\n",
    "end"
   ]
  },
  {
   "cell_type": "markdown",
   "id": "cdff77a3",
   "metadata": {},
   "source": [
    "### test"
   ]
  },
  {
   "cell_type": "code",
   "execution_count": null,
   "id": "30981548",
   "metadata": {},
   "outputs": [],
   "source": [
    "g = erdos_renyi(100, 1/20, seed=123)\n",
    "c_min, c_max = compute_edgecounts_minmax(g)\n",
    "eq_min = solve_eq(c_min, 1.0)\n",
    "eq_max = solve_eq(c_max, 1.0)\n",
    "plot(eq_min)\n",
    "plot!(eq_max)"
   ]
  },
  {
   "cell_type": "markdown",
   "id": "e644641d",
   "metadata": {},
   "source": [
    "# Footprint"
   ]
  },
  {
   "cell_type": "code",
   "execution_count": null,
   "id": "18cde836",
   "metadata": {},
   "outputs": [],
   "source": [
    "function comput_mean(pi)\n",
    "    mean = 0.0\n",
    "    for (num_inf, prob) in enumerate(pi) \n",
    "        mean += num_inf*prob\n",
    "    end\n",
    "    return mean/length(pi)\n",
    "end\n",
    "    \n",
    "\n",
    "function get_footprint(g::SimpleGraph{Int64}, rates, df)::Tuple{Vector{Float64},Vector{Float64}}\n",
    "    footprint_min = si_counts_record = Vector{Float64}()\n",
    "    footprint_max = si_counts_record = Vector{Float64}()\n",
    "    c_min, c_max = compute_edgecounts_minmax(g)\n",
    "    \n",
    "    for rate in rates\n",
    "        eq_min = solve_eq(c_min, rate)\n",
    "        eq_max = solve_eq(c_max, rate)\n",
    "        exp_mean_min = comput_mean(eq_min)\n",
    "        exp_mean_max = comput_mean(eq_max)\n",
    "        append!(footprint_min, exp_mean_min)\n",
    "        append!(footprint_max, exp_mean_max)\n",
    "        push!(df, (rates=rate, exp_inf_frac=exp_mean_min, bound=\"lower\"), cols=:intersect)\n",
    "        push!(df, (rates=rate, exp_inf_frac=exp_mean_max, bound=\"upper\"), cols=:intersect)\n",
    "    end\n",
    "    return footprint_min, footprint_max\n",
    "end"
   ]
  },
  {
   "cell_type": "markdown",
   "id": "74b0103f",
   "metadata": {},
   "source": [
    "# Simlation (unused bc slow)"
   ]
  },
  {
   "cell_type": "code",
   "execution_count": null,
   "id": "8923e419",
   "metadata": {},
   "outputs": [],
   "source": [
    "function simulate_sis(g::SimpleGraph{Int64},  infection_rate::Float64, step_num::Int64=10^2)::Float64\n",
    "    init_infected_num = Int64(nv(g)/2)\n",
    "    init_infected = randperm(nv(g))[1:init_infected_num]\n",
    "    \n",
    "    currently_infected = Set{Int64}(init_infected)\n",
    "    global_clock::Float64 = 0.0\n",
    "    \n",
    "    recovery_rate::Float64 = 1.0\n",
    "    eps::Float64 = 0.000000000001 \n",
    "    step_count::Int64 = 0\n",
    "    \n",
    "    for i in 1:step_num \n",
    "        min_j::Int64 = -1\n",
    "        min_fire_time::Float64  = -1.0\n",
    "        for v_j in 1:nv(g)\n",
    "            rate::Float64 = v_j in currently_infected ? recovery_rate : infection_rate *  count(v_x->v_x in currently_infected, neighbors(g, v_j))\n",
    "            rate += eps\n",
    "            fire_time::Float64 = - log(rand())/rate\n",
    "            if min_fire_time < 0   || fire_time < min_fire_time\n",
    "                min_j = v_j\n",
    "                min_fire_time = fire_time\n",
    "            end\n",
    "        end\n",
    "        if !(min_j in currently_infected)\n",
    "            push!(currently_infected, min_j)\n",
    "        elseif length(currently_infected) > 1\n",
    "            delete!(currently_infected, min_j)\n",
    "        end\n",
    "    end\n",
    "    \n",
    "    return length(currently_infected)/nv(g)\n",
    "end"
   ]
  },
  {
   "cell_type": "code",
   "execution_count": null,
   "id": "69bf4184",
   "metadata": {},
   "outputs": [],
   "source": [
    "function get_footprint_empirical_simple(g::SimpleGraph{Int64}, rates, df)\n",
    "    footprint_values::Vector{Float64}  = []\n",
    "    timepoints = range(0.0, stop=109.0, length=100)\n",
    "     for rate in rates\n",
    "        final_inf_frac::Vector{Float64}  = []\n",
    "        for i in 1:20\n",
    "            traj_end = simulate_sis(g, rate, nv(g)*100)\n",
    "            print(\".\")\n",
    "            append!(final_inf_frac, traj_end)\n",
    "            push!(df, (rates=rate, exp_inf_frac=traj_end, bound=\"simulation\"), cols=:intersect)\n",
    "        end\n",
    "        append!(footprint_values, mean(final_inf_frac))\n",
    "    end\n",
    "    return footprint_values, df\n",
    "end\n"
   ]
  },
  {
   "cell_type": "markdown",
   "id": "877b8fbf",
   "metadata": {},
   "source": [
    "# Simulation (extern)"
   ]
  },
  {
   "cell_type": "code",
   "execution_count": null,
   "id": "3db0c792",
   "metadata": {},
   "outputs": [],
   "source": [
    "function read_simout(filepath)\n",
    "    #s = read(\"/Users/gerritgrossmann/Documents/devel/birth_death_palermo/simulation_output/simulation_10002842_1.txt\", String)\n",
    "    s = read(filepath, String)\n",
    "    relevant_line =  \"I,\" == split(s,\"\\n\")[end-1][1:2] ? split(s,\"\\n\")[end-1] : split(s,\"\\n\")[end-2]\n",
    "    value = split(relevant_line, \",\")[2]\n",
    "    value =  parse(Float64,  value) \n",
    "    return value\n",
    "end\n",
    "\n",
    "function simulate_sis_rust(g::SimpleGraph{Int64},  infection_rate::Float64, sim_num::Int64)#::Float64\n",
    "    if !isdir(\"graph_output\")\n",
    "        run(`mkdir graph_output`)\n",
    "    end \n",
    "    if !isdir(\"simulation_output\")\n",
    "        run(`mkdir simulation_output`)\n",
    "    end \n",
    "    if !isdir(\"output\")\n",
    "        run(`mkdir output`)\n",
    "    end \n",
    "        \n",
    "    \n",
    "    #infection_rate_str = length(repr(infection_rate)) > 7 ? repr(infection_rate)[:5] : repr(infection_rate)\n",
    "    r = Int(floor(rand()*100000+10000000)) \n",
    "    #/Users/gerritgrossmann/Documents/devel/birth_death_palermo/graph_output\n",
    "    graph_path = pwd() * \"/graph_output/graph_export_$r.txt\" #sorry\n",
    "    binary_path = \"/rust/Rejection-Based-Epidemic-Simulation/rust_reject/target/release/rust_reject\"\n",
    "\n",
    "    \n",
    "    open(\"graph_output/graph_export_$r.txt\", \"w\") do io\n",
    "        for v_i in 1:nv(g) \n",
    "            v_j = v_i-1\n",
    "            node_label = rand() > 0.5 ? \"I\" : \"S\"\n",
    "            endchar = v_i != nv(g)  ? \"\\n\" : \"\" \n",
    "            neighbors_corrected = map(x->x-1, neighbors(g,v_i))\n",
    "            neig_str = replace(repr(neighbors_corrected), \" \" => \"\", \"[\" => \"\", \"]\" => \"\")\n",
    "            write(io, repr(v_j) * \";\" * node_label * \";\" * neig_str *endchar)\n",
    "        end\n",
    "    end\n",
    "    \n",
    "    \n",
    "    run_command = \"\"\n",
    "    \n",
    "    \n",
    "    final_exp_inf::Vector{Float64} = []\n",
    "    for i in 1:sim_num\n",
    "        sim_path = pwd() * \"/simulation_output/simulation_$r\"*\"_$i.txt\"\n",
    "        cmd = \".$binary_path $graph_path $sim_path $infection_rate\"\n",
    "        #cmd = \"\"\"sh -c \"$cmd\" >> rust_output.txt 2>&1\"\"\"\n",
    "        run(`sh -c $cmd \\>\\> rust_output.txt 2\\>\\&1`)\n",
    "        sleep(0.1)\n",
    "        v = read_simout(sim_path)\n",
    "        push!(final_exp_inf, v)\n",
    "    end \n",
    "    println(final_exp_inf)\n",
    "    \n",
    "\n",
    "    return final_exp_inf\n",
    "end\n",
    "\n",
    "\n",
    "\n",
    "function get_footprint_rust(g::SimpleGraph{Int64}, rates, df; sample_num=30)\n",
    "   mean_agg::Vector{Float64} = []\n",
    "    for infection_rate in rates\n",
    "        print(\".\")\n",
    "        mean_vec = simulate_sis_rust(g,  infection_rate, sample_num)\n",
    "        for mean_v in mean_vec\n",
    "            push!(df, (rates=infection_rate, exp_inf_frac=mean_v, bound=\"simulation\"), cols=:intersect)\n",
    "        end\n",
    "        push!(mean_agg, mean(mean_vec))\n",
    "    end\n",
    "    return mean_agg\n",
    "end"
   ]
  },
  {
   "cell_type": "code",
   "execution_count": null,
   "id": "18eb5f47",
   "metadata": {},
   "outputs": [],
   "source": [
    "n = 100\n",
    "g = barabasi_albert(n, 3, seed=123)\n",
    "simulate_sis_rust(g, 0.6, 10)"
   ]
  },
  {
   "cell_type": "markdown",
   "id": "38266d0b",
   "metadata": {},
   "source": [
    "# Experiments"
   ]
  },
  {
   "cell_type": "markdown",
   "id": "c45fe1c6",
   "metadata": {},
   "source": [
    "## n = 10^2"
   ]
  },
  {
   "cell_type": "markdown",
   "id": "d583e7d8",
   "metadata": {},
   "source": [
    "### Erdos"
   ]
  },
  {
   "cell_type": "code",
   "execution_count": null,
   "id": "6b76984d",
   "metadata": {},
   "outputs": [],
   "source": [
    "n = 100\n",
    "g = erdos_renyi(n, 1/n*10, seed=123)\n",
    "START = 0.001\n",
    "STOP = 10.0\n",
    "\n",
    "df = DataFrame(rates = [], exp_inf_frac = [], bound=[])\n",
    "println(\"mean degree: \", 2*ne(g)/nv(g))\n",
    "\n",
    "rates_log = range(log(START), stop=log(STOP), length=1000)\n",
    "rates = [exp(r) for r in rates_log]\n",
    "\n",
    "foot_min, foot_max = get_footprint(g, rates, df)\n",
    "CSV.write(\"output/ERgraph_100.csv\", df)\n",
    "\n",
    "plot(rates, foot_min,  xaxis=:log) \n",
    "plot!(rates, foot_max, xaxis=:log) \n",
    "\n",
    "savefig(\"ERgraph_100.pdf\") \n",
    "\n",
    "\n",
    "\n"
   ]
  },
  {
   "cell_type": "code",
   "execution_count": null,
   "id": "5ea84539",
   "metadata": {},
   "outputs": [],
   "source": [
    "rates_log = range(log(START), stop=log(STOP), length=100)\n",
    "rates = [exp(r) for r in rates_log]\n",
    "\n",
    "foot_emp = get_footprint_rust(g, rates, df, sample_num=100)\n",
    "CSV.write(\"output/ERgraph_100.csv\", df)\n",
    "plot!(rates, foot_emp,  xaxis=:log) \n",
    "\n",
    "\n",
    "savefig(\"ERgraph_100_sim.pdf\") "
   ]
  },
  {
   "cell_type": "markdown",
   "id": "d25527b7",
   "metadata": {},
   "source": [
    "### BA"
   ]
  },
  {
   "cell_type": "code",
   "execution_count": null,
   "id": "78c9165c",
   "metadata": {},
   "outputs": [],
   "source": [
    "n = 100\n",
    "g = barabasi_albert(n, 3, seed=123)\n",
    "START = 0.001\n",
    "STOP = 10.0\n",
    "\n",
    "rates_log = range(log(START), stop=log(STOP), length=1000)\n",
    "rates = [exp(r) for r in rates_log]\n",
    "println(\"mean degree: \", 2*ne(g)/nv(g))\n",
    "\n",
    "df = DataFrame(rates = [], exp_inf_frac = [], bound=[])\n",
    "\n",
    "foot_min, foot_max = get_footprint(g, rates, df)\n",
    "CSV.write(\"output/BAgraph_100.csv\", df)\n",
    "\n",
    "plot(rates, foot_min,  xaxis=:log) \n",
    "plot!(rates, foot_max, xaxis=:log) \n",
    "\n",
    "\n",
    "savefig(\"BAgraph_100.pdf\") \n",
    "\n",
    "\n",
    "\n"
   ]
  },
  {
   "cell_type": "code",
   "execution_count": null,
   "id": "a495ddac",
   "metadata": {},
   "outputs": [],
   "source": [
    "rates_log = range(log(START), stop=log(STOP), length=100)\n",
    "rates = [exp(r) for r in rates_log]\n",
    "\n",
    "foot_emp = get_footprint_rust(g, rates, df, sample_num=100)\n",
    "CSV.write(\"output/BAgraph_100.csv\", df)\n",
    "plot!(rates, foot_emp, xaxis=:log) \n",
    "\n",
    "savefig(\"BAgraph_100_sim.pdf\") "
   ]
  },
  {
   "cell_type": "markdown",
   "id": "a4d1d358",
   "metadata": {},
   "source": [
    "### WS"
   ]
  },
  {
   "cell_type": "code",
   "execution_count": null,
   "id": "5320e46e",
   "metadata": {},
   "outputs": [],
   "source": [
    "n = 100\n",
    "g = watts_strogatz(n, 8, 0.8, seed=123)\n",
    "START = 0.001\n",
    "STOP = 10.0\n",
    "\n",
    "df = DataFrame(rates = [], exp_inf_frac = [], bound=[])\n",
    "\n",
    "rates_log = range(log(START), stop=log(STOP), length=1000)\n",
    "rates = [exp(r) for r in rates_log]\n",
    "println(\"mean degree: \", 2*ne(g)/nv(g))\n",
    "\n",
    "foot_min, foot_max = get_footprint(g, rates, df)\n",
    "\n",
    "\n",
    "CSV.write(\"output/WSgraph_100.csv\", df)\n",
    "plot(rates, foot_min,  xaxis=:log) \n",
    "plot!(rates, foot_max, xaxis=:log) \n",
    "\n",
    "savefig(\"WSgraph_100.pdf\") \n",
    "\n",
    "\n"
   ]
  },
  {
   "cell_type": "code",
   "execution_count": null,
   "id": "0b53e3eb",
   "metadata": {},
   "outputs": [],
   "source": [
    "rates_log = range(log(START), stop=log(STOP), length=100)\n",
    "rates = [exp(r) for r in rates_log]\n",
    "\n",
    "foot_emp = get_footprint_rust(g, rates, df, sample_num=100)\n",
    "CSV.write(\"output/WSgraph_100.csv\", df)\n",
    "plot!(rates, foot_emp, xaxis=:log) \n",
    "\n",
    "savefig(\"WSgraph_100_sim.pdf\") "
   ]
  },
  {
   "cell_type": "markdown",
   "id": "b3f708f6",
   "metadata": {},
   "source": [
    "## n = 10^4"
   ]
  },
  {
   "cell_type": "code",
   "execution_count": null,
   "id": "fca943ca",
   "metadata": {},
   "outputs": [],
   "source": [
    "# erdos\n",
    "n = 10^4\n",
    "g = erdos_renyi(n, 1/n*20, seed=123)\n",
    "START = 0.001\n",
    "STOP = 10.0\n",
    "\n",
    "df = DataFrame(rates = [], exp_inf_frac = [], bound=[])\n",
    "println(\"mean degree: \", 2*ne(g)/nv(g))\n",
    "\n",
    "rates_log = range(log(START), stop=log(STOP), length=1000)\n",
    "rates = [exp(r) for r in rates_log]\n",
    "\n",
    "foot_min, foot_max = get_footprint(g, rates, df)\n",
    "\n",
    "CSV.write(\"output/ERgraph_10000.csv\", df)\n",
    "\n",
    "plot(rates, foot_min,  xaxis=:log) \n",
    "plot!(rates, foot_max, xaxis=:log) \n",
    "\n",
    "\n"
   ]
  },
  {
   "cell_type": "code",
   "execution_count": null,
   "id": "df0356b2",
   "metadata": {},
   "outputs": [],
   "source": [
    "rates_log = range(log(START), stop=log(STOP), length=100)\n",
    "rates = [exp(r) for r in rates_log]\n",
    "\n",
    "foot_emp = get_footprint_rust(g, rates, df)\n",
    "CSV.write(\"output/ERgraph_10000.csv\", df)\n",
    "plot!(rates, foot_emp, xaxis=:log) "
   ]
  },
  {
   "cell_type": "code",
   "execution_count": null,
   "id": "206d27aa",
   "metadata": {},
   "outputs": [],
   "source": [
    "# ba\n",
    "n = 10^4\n",
    "g = barabasi_albert(n, 4, seed=123)\n",
    "println(\"mean degree: \", 2*ne(g)/nv(g))\n",
    "START = 0.001\n",
    "STOP = 10.0\n",
    "rates_log = range(log(START), stop=log(STOP), length=1000)\n",
    "rates = [exp(r) for r in rates_log]\n",
    "\n",
    "df = DataFrame(rates = [], exp_inf_frac = [], bound=[])\n",
    "\n",
    "foot_min, foot_max = get_footprint(g, rates, df)\n",
    "\n",
    "CSV.write(\"output/BAgraph_10000.csv\", df)\n",
    "plot(rates, foot_min,  xaxis=:log) \n",
    "plot!(rates, foot_max, xaxis=:log) \n",
    "\n"
   ]
  },
  {
   "cell_type": "code",
   "execution_count": null,
   "id": "8b3a6cae",
   "metadata": {},
   "outputs": [],
   "source": [
    "rates_log = range(log(START), stop=log(STOP), length=100)\n",
    "rates = [exp(r) for r in rates_log]\n",
    "\n",
    "foot_emp = get_footprint_rust(g, rates, df)\n",
    "CSV.write(\"output/BAgraph_10000.csv\", df)\n",
    "plot!(rates, foot_emp, xaxis=:log) "
   ]
  },
  {
   "cell_type": "code",
   "execution_count": null,
   "id": "c102b0e5",
   "metadata": {},
   "outputs": [],
   "source": [
    "# ws\n",
    "n = 10^4\n",
    "g = watts_strogatz(n, 12, 0.8, seed=123)\n",
    "START = 0.001\n",
    "STOP = 10.0\n",
    "rates_log = range(log(START), stop=log(STOP), length=1000)\n",
    "rates = [exp(r) for r in rates_log]\n",
    "println(\"mean degree: \", 2*ne(g)/nv(g))\n",
    "\n",
    "df = DataFrame(rates = [], exp_inf_frac = [], bound=[])\n",
    "\n",
    "foot_min, foot_max = get_footprint(g, rates, df)\n",
    "CSV.write(\"output/WSgraph_10000.csv\", df)\n",
    "plot(rates, foot_min,  xaxis=:log) \n",
    "plot!(rates, foot_max, xaxis=:log) \n",
    "\n"
   ]
  },
  {
   "cell_type": "code",
   "execution_count": null,
   "id": "2aa92f15",
   "metadata": {},
   "outputs": [],
   "source": [
    "rates_log = range(log(START), stop=log(STOP), length=100)\n",
    "rates = [exp(r) for r in rates_log]\n",
    "\n",
    "foot_emp = get_footprint_rust(g, rates, df)\n",
    "CSV.write(\"output/WSgraph_10000.csv\", df)\n",
    "plot!(rates, foot_emp, xaxis=:log) "
   ]
  },
  {
   "cell_type": "markdown",
   "id": "f717a9c9",
   "metadata": {},
   "source": [
    "## n = 10^6"
   ]
  },
  {
   "cell_type": "code",
   "execution_count": null,
   "id": "50e6b771",
   "metadata": {},
   "outputs": [],
   "source": [
    "# erdos\n",
    "n = 10^6\n",
    "g = erdos_renyi(n, 1/n*40, seed=123)\n",
    "START = 0.001\n",
    "STOP = 10.0\n",
    "rates_log = range(log(START), stop=log(STOP), length=1000)\n",
    "rates = [exp(r) for r in rates_log]\n",
    "\n",
    "df = DataFrame(rates = [], exp_inf_frac = [], bound=[])\n",
    "println(\"mean degree: \", 2*ne(g)/nv(g))\n",
    "\n",
    "rates = range(START, stop=STOP, length=1000)\n",
    "foot_min, foot_max = get_footprint(g, rates, df)\n",
    "\n",
    "CSV.write(\"output/ERgraph_1000000.csv\", df)\n",
    "plot(rates, foot_min,  xaxis=:log) \n",
    "plot!(rates, foot_max, xaxis=:log) \n",
    "\n"
   ]
  },
  {
   "cell_type": "code",
   "execution_count": null,
   "id": "0ff97d65",
   "metadata": {},
   "outputs": [],
   "source": [
    "rates_log = range(log(START), stop=log(STOP), length=20)\n",
    "rates = [exp(r) for r in rates_log]\n",
    "\n",
    "foot_emp = get_footprint_rust(g, rates, df, sample_num=5)\n",
    "CSV.write(\"output/ERgraph_1000000.csv\", df)\n",
    "plot!(rates, foot_emp, xaxis=:log) "
   ]
  },
  {
   "cell_type": "code",
   "execution_count": null,
   "id": "d325efa2",
   "metadata": {},
   "outputs": [],
   "source": [
    "# ba\n",
    "n = 10^6\n",
    "g = barabasi_albert(n, 6, seed=123)\n",
    "START = 0.001\n",
    "STOP = 10.0\n",
    "rates_log = range(log(START), stop=log(STOP), length=1000)\n",
    "rates = [exp(r) for r in rates_log]\n",
    "\n",
    "df = DataFrame(rates = [], exp_inf_frac = [], bound=[])\n",
    "println(\"mean degree: \", 2*ne(g)/nv(g))\n",
    "\n",
    "foot_min, foot_max = get_footprint(g, rates, df)\n",
    "\n",
    "CSV.write(\"output/BAgraph_1000000.csv\", df)\n",
    "plot(rates, foot_min, xaxis=:log) \n",
    "plot!(rates, foot_max, xaxis=:log) \n",
    "\n"
   ]
  },
  {
   "cell_type": "code",
   "execution_count": null,
   "id": "ad725a68",
   "metadata": {},
   "outputs": [],
   "source": [
    "rates_log = range(log(START), stop=log(STOP), length=20)\n",
    "rates = [exp(r) for r in rates_log]\n",
    "\n",
    "foot_emp = get_footprint_rust(g, rates, df, sample_num=5)\n",
    "CSV.write(\"output/BAgraph_1000000.csv\", df)\n",
    "plot!(rates, foot_emp, xaxis=:log) "
   ]
  },
  {
   "cell_type": "code",
   "execution_count": null,
   "id": "055f0631",
   "metadata": {},
   "outputs": [],
   "source": [
    "# ws\n",
    "n = 10^6\n",
    "g = watts_strogatz(n, 16, 0.8, seed=123)\n",
    "START = 0.001\n",
    "STOP = 10.0\n",
    "rates_log = range(log(START), stop=log(STOP), length=1000)\n",
    "rates = [exp(r) for r in rates_log]\n",
    "\n",
    "df = DataFrame(rates = [], exp_inf_frac = [], bound=[])\n",
    "println(\"mean degree: \", 2*ne(g)/nv(g))\n",
    "\n",
    "foot_min, foot_max = get_footprint(g, rates, df)\n",
    "\n",
    "CSV.write(\"output/WSgraph_1000000.csv\", df)\n",
    "plot(rates, foot_min, xaxis=:log) \n",
    "plot!(rates, foot_max, xaxis=:log) \n",
    "\n"
   ]
  },
  {
   "cell_type": "code",
   "execution_count": null,
   "id": "dcb51aff",
   "metadata": {},
   "outputs": [],
   "source": [
    "rates_log = range(log(START), stop=log(STOP), length=20)\n",
    "rates = [exp(r) for r in rates_log]\n",
    "\n",
    "foot_emp = get_footprint_rust(g, rates, df, sample_num=5)\n",
    "CSV.write(\"output/WSgraph_1000000.csv\", df)\n",
    "plot!(rates, foot_emp, xaxis=:log) "
   ]
  }
 ],
 "metadata": {
  "kernelspec": {
   "display_name": "Julia nodeps 1.7.3",
   "language": "julia",
   "name": "julia-nodeps-1.7"
  },
  "language_info": {
   "file_extension": ".jl",
   "mimetype": "application/julia",
   "name": "julia",
   "version": "1.7.3"
  }
 },
 "nbformat": 4,
 "nbformat_minor": 5
}
